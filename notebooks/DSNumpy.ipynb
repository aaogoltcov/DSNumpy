{
 "cells": [
  {
   "cell_type": "code",
   "execution_count": 1,
   "metadata": {
    "collapsed": true
   },
   "outputs": [
    {
     "name": "stdout",
     "output_type": "stream",
     "text": [
      "[9 8 7 6 5 4 3 2 1 0]\n",
      "[9 8 7 6 5 4 3 2 1 0]\n",
      "[9 8 7 6 5 4 3 2 1 0]\n",
      "45\n",
      "45\n",
      "45\n",
      "[-5.18181818  5.72727273 13.27272727]\n",
      "True\n",
      "[-5.18181818  5.72727273 13.27272727]\n",
      "True\n"
     ]
    }
   ],
   "source": [
    "import numpy as np\n",
    "from numpy import linalg\n",
    "\n",
    "# Создайте numpy array с элементами от числа N до 0 (например, для N = 10 это будет array([9, 8, 7, 6, 5, 4, 3, 2, 1,\n",
    "# 0])).\n",
    "\n",
    "\n",
    "def create_array_version_1(n):\n",
    "    return np.arange(n - 1, -1, -1)\n",
    "\n",
    "\n",
    "def create_array_version_2(n):\n",
    "    return np.arange(n)[::-1]\n",
    "\n",
    "\n",
    "def create_array_version_3(n):\n",
    "    return np.flip(np.arange(n))\n",
    "\n",
    "\n",
    "print(create_array_version_1(10))\n",
    "print(create_array_version_2(10))\n",
    "print(create_array_version_3(10))\n",
    "\n",
    "\n",
    "# Создайте диагональную матрицу с элементами от N до 0. Посчитайте сумму ее значений на диагонали.\n",
    "\n",
    "def get_diagonal_matrix_sum_1(n):\n",
    "    return np.trace(np.diag(create_array_version_1(n)))\n",
    "\n",
    "\n",
    "def get_diagonal_matrix_sum_2(n):\n",
    "    return sum(np.diag(create_array_version_1(n)).diagonal())\n",
    "\n",
    "\n",
    "def get_diagonal_matrix_sum_3(n):\n",
    "    return sum(\n",
    "        [np.diagflat(create_array_version_1(n))[i][i] for i in range(len(np.diagflat(create_array_version_1(n))))])\n",
    "\n",
    "\n",
    "print(get_diagonal_matrix_sum_1(10))\n",
    "print(get_diagonal_matrix_sum_2(10))\n",
    "print(get_diagonal_matrix_sum_3(10))\n",
    "\n",
    "# Решите систему уравнений:\n",
    "# 4x + 2y + z = 4\n",
    "# x + 3y = 12\n",
    "# 5y + 4z = -3\n",
    "\n",
    "array_equation_coefficient = np.array([[4, 2, 1], [1, 3, 0], [5, 4, 0]])\n",
    "array_equation_result = np.array([4, 12, -3])\n",
    "\n",
    "# version 1\n",
    "print(linalg.solve(array_equation_coefficient, array_equation_result))\n",
    "print(np.allclose(np.dot(array_equation_coefficient, linalg.solve(array_equation_coefficient, array_equation_result)), array_equation_result ))\n",
    "\n",
    "# version 2\n",
    "print(np.linalg.inv(array_equation_coefficient).dot(array_equation_result))\n",
    "print(np.allclose(np.dot(array_equation_coefficient, np.linalg.inv(array_equation_coefficient).dot(array_equation_result)), array_equation_result ))"
   ]
  }
 ],
 "metadata": {
  "kernelspec": {
   "display_name": "Python 3",
   "language": "python",
   "name": "python3"
  },
  "language_info": {
   "codemirror_mode": {
    "name": "ipython",
    "version": 2
   },
   "file_extension": ".py",
   "mimetype": "text/x-python",
   "name": "python",
   "nbconvert_exporter": "python",
   "pygments_lexer": "ipython2",
   "version": "2.7.6"
  }
 },
 "nbformat": 4,
 "nbformat_minor": 0
}